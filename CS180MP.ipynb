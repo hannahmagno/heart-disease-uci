{
 "cells": [
  {
   "cell_type": "markdown",
   "metadata": {},
   "source": [
    "Magno, Hannah Mae C. <br> \n",
    "Mercado, Beatrice Pauline R. "
   ]
  },
  {
   "cell_type": "markdown",
   "metadata": {},
   "source": [
    "# CS 180 MP 2\n",
    "# Heart Disease UCI using Naive Bayes Algorithm"
   ]
  },
  {
   "cell_type": "markdown",
   "metadata": {},
   "source": [
    "## I. Introduction\n",
    "\n",
    "Heart disease depicts various conditions that affect your heart. These diseases include blood vessel diseases, heart rhythm problems, and heart defects you're born with. Unlike cardiovascular disease, which states problems concerning the blood vessels and circulatory system, heart disease describes the malfunctions in the heart itself. In accordance with Centers for Disease Control (CDC), heart disease is one of the main causes of death in the countries such as United Kingdom, United States, Canada, and Australia. Major risk factors include high blood pressure, high cholesterol, and smoking for heart disease. Lifestlye malpractices can really put a higher risk for heart disease such as poor diet, physical inactivity, excessive alcohol use, and many more. The main objective of this is to have a model which attempts predict if a patient has heart disease or not."
   ]
  },
  {
   "cell_type": "markdown",
   "metadata": {},
   "source": [
    "## II. Methodology\n",
    "\n",
    "We have a dataset which classified if patients have heart disease or not according to features in it. We use this data to create a model which tries predict if a particular patient has this disease or not. We use Naive Bayes algorithm particularly the Gaussian Naive Bayes classifier to make a model for this dataset.\n",
    "\n",
    "We chose to use the Gaussian Naive Bayes Classifier because our dataset deals with continuous data that can be distributed to a normal (or Gaussian) distribution. The SciKit already provided the library for Gaussian Naive Bayes. \n",
    "\n",
    "First, the dataset is split into two sets mainly train and test set. The test size for this is 20% of the dataset. The training set was train using the GaussianNB or Gaussian Naive Bayes. The predict function was used to predict the test set. The output of the predict function was also used to compute for the accuracy metrics. "
   ]
  },
  {
   "cell_type": "markdown",
   "metadata": {},
   "source": [
    "## III. Data and Analysis\n",
    "\n",
    "The dataset consists of fourteen columns for the fourteen (14) attributes namely:\n",
    "- Age (in years)\n",
    "- Sex (1 = male; 0 = female)\n",
    "- Chest pain type (4 values) \n",
    "- Resting blood pressure \n",
    "- Serum cholesterol in mg/dl \n",
    "- Fasting blood sugar > 120 mg/dl (1 = true, 0 = false)\n",
    "- Resting electrocardiographic results (values 0,1,2)\n",
    "- Maximum heart rate achieved \n",
    "- Exercise induced angina (1 = yes; 0 = no)\n",
    "- Oldpeak = ST depression induced by exercise relative to rest \n",
    "- The slope of the peak exercise ST segment \n",
    "- Number of major vessels (0-3) colored by fluoroscopy \n",
    "- Thal: 3 = normal; 6 = fixed defect; 7 = reversible defect\n",
    "- Target (1 = with disease; 0 = without disease)\n",
    "\n",
    "Male patients have a percentage of 68.32% and female patients with a percentage of 31.68%. The dataset contains a percentage of 54.46% for patients who have heart disease and 45.54% for patients who does not have. \n",
    "\n",
    "The dataset is from Kaggle retrieved from https://www.kaggle.com/ronitf/heart-disease-uci?fbclid=IwAR2YoYJNMp5U_UvcDptSrasX-oWlX_X6Zk3F9cnNoL2pcTBhxA5I9OicRco."
   ]
  },
  {
   "cell_type": "markdown",
   "metadata": {},
   "source": [
    "## IV. Conclusion\n",
    "\n",
    "In conclusion, the model provides an accuracy score of 86.89%. "
   ]
  },
  {
   "cell_type": "markdown",
   "metadata": {},
   "source": [
    "## V. Contribution\n",
    "\n",
    "Magno, Hannah Mae C. <br>\n",
    "- Finding dataset\n",
    "- Model training\n",
    "- Documentation\n",
    "\n",
    "Mercado, Beatrice Pauline R. <br>\n",
    "- Model training\n",
    "- Documentation\n",
    "\n",
    "Sources:\n",
    "\n",
    "https://www.medicalnewstoday.com/articles/237191.php <br>\n",
    "https://www.mayoclinic.org/diseases-conditions/heart-disease/symptoms-causes/syc-20353118 <br>\n",
    "https://www.cdc.gov/heartdisease/facts.htm <br>\n",
    "https://www.kaggle.com/cdabakoglu/heart-disease-classifications-machine-learning/notebook <br>\n",
    "https://www.kaggle.com/hideraldo/kernel-heart-disease/log"
   ]
  },
  {
   "cell_type": "markdown",
   "metadata": {},
   "source": [
    "## VI. Source Code"
   ]
  },
  {
   "cell_type": "code",
   "execution_count": 141,
   "metadata": {},
   "outputs": [],
   "source": [
    "import numpy as np\n",
    "import pandas as pd\n",
    "import seaborn as sns\n",
    "import matplotlib.pyplot as plt"
   ]
  },
  {
   "cell_type": "markdown",
   "metadata": {},
   "source": [
    "### Reading the Dataset"
   ]
  },
  {
   "cell_type": "code",
   "execution_count": 142,
   "metadata": {},
   "outputs": [],
   "source": [
    "data = pd.read_csv(\"heart.csv\")"
   ]
  },
  {
   "cell_type": "code",
   "execution_count": 143,
   "metadata": {},
   "outputs": [],
   "source": [
    "predicts = data.iloc[:, 0:13].values"
   ]
  },
  {
   "cell_type": "code",
   "execution_count": 144,
   "metadata": {},
   "outputs": [],
   "source": [
    "cla = data.iloc[:,13].values"
   ]
  },
  {
   "cell_type": "markdown",
   "metadata": {},
   "source": [
    "### Data Exploration"
   ]
  },
  {
   "cell_type": "code",
   "execution_count": 155,
   "metadata": {},
   "outputs": [
    {
     "name": "stdout",
     "output_type": "stream",
     "text": [
      "Percentage of Female Patients: 31.68%\n",
      "Percentage of Male Patients: 68.32%\n"
     ]
    }
   ],
   "source": [
    "countFemale = len(data[data.sex == 0])\n",
    "countMale = len(data[data.sex == 1])\n",
    "print(\"Percentage of Female Patients: {:.2f}%\".format((countFemale / (len(data.sex))*100)))\n",
    "print(\"Percentage of Male Patients: {:.2f}%\".format((countMale / (len(data.sex))*100)))"
   ]
  },
  {
   "cell_type": "code",
   "execution_count": 156,
   "metadata": {},
   "outputs": [
    {
     "name": "stdout",
     "output_type": "stream",
     "text": [
      "Percentage of Patients Haven't Heart Disease: 45.54%\n",
      "Percentage of Patients Have Heart Disease: 54.46%\n"
     ]
    }
   ],
   "source": [
    "countNoDisease = len(data[data.target == 0])\n",
    "countHaveDisease = len(data[data.target == 1])\n",
    "print(\"Percentage of Patients Haven't Heart Disease: {:.2f}%\".format((countNoDisease / (len(data.target))*100)))\n",
    "print(\"Percentage of Patients Have Heart Disease: {:.2f}%\".format((countHaveDisease / (len(data.target))*100)))"
   ]
  },
  {
   "cell_type": "markdown",
   "metadata": {},
   "source": [
    "### Splitting into train and test set"
   ]
  },
  {
   "cell_type": "code",
   "execution_count": 145,
   "metadata": {},
   "outputs": [],
   "source": [
    "from sklearn.model_selection import train_test_split\n",
    "predicts_train, predicts_test, class_train, class_test = train_test_split(predicts, cla, test_size=0.2, random_state=42)"
   ]
  },
  {
   "cell_type": "markdown",
   "metadata": {},
   "source": [
    "### Using Gaussian Naive Bayes Algorithm"
   ]
  },
  {
   "cell_type": "code",
   "execution_count": 146,
   "metadata": {},
   "outputs": [],
   "source": [
    "from sklearn.naive_bayes import GaussianNB\n",
    "classifier_NB = GaussianNB()\n",
    "classifier_NB.fit(predicts_train, class_train)\n",
    "predicts_NB = classifier_NB.predict(predicts_test)"
   ]
  },
  {
   "cell_type": "markdown",
   "metadata": {},
   "source": [
    "### Assessing the Accuracy Score"
   ]
  },
  {
   "cell_type": "code",
   "execution_count": 147,
   "metadata": {},
   "outputs": [],
   "source": [
    "from sklearn.metrics import confusion_matrix, accuracy_score\n",
    "predict_NB = accuracy_score(class_test, predicts_NB)"
   ]
  },
  {
   "cell_type": "code",
   "execution_count": 148,
   "metadata": {},
   "outputs": [],
   "source": [
    "matriz_NB = confusion_matrix(class_test, predicts_NB)"
   ]
  },
  {
   "cell_type": "code",
   "execution_count": 149,
   "metadata": {},
   "outputs": [
    {
     "data": {
      "text/plain": [
       "<matplotlib.axes._subplots.AxesSubplot at 0x119c20f0>"
      ]
     },
     "execution_count": 149,
     "metadata": {},
     "output_type": "execute_result"
    },
    {
     "data": {
      "image/png": "[encoded data removed]",
      "text/plain": [
       "<Figure size 432x288 with 1 Axes>"
      ]
     },
     "metadata": {},
     "output_type": "display_data"
    }
   ],
   "source": [
    "plt.title(\"Naive Bayes Confusion Matrix\")\n",
    "sns.heatmap(matriz_NB,annot=True,cmap=\"Blues\",fmt=\"d\",cbar=False)"
   ]
  },
  {
   "cell_type": "code",
   "execution_count": 150,
   "metadata": {},
   "outputs": [
    {
     "name": "stdout",
     "output_type": "stream",
     "text": [
      "Accuracy of Naive Bayes: 0.8688524590163934\n"
     ]
    }
   ],
   "source": [
    "print(\"Accuracy of Naive Bayes:\",predict_NB)"
   ]
  }
 ],
 "metadata": {
  "kernelspec": {
   "display_name": "Python 3",
   "language": "python",
   "name": "python3"
  },
  "language_info": {
   "codemirror_mode": {
    "name": "ipython",
    "version": 3
   },
   "file_extension": ".py",
   "mimetype": "text/x-python",
   "name": "python",
   "nbconvert_exporter": "python",
   "pygments_lexer": "ipython3",
   "version": "3.7.0"
  }
 },
 "nbformat": 4,
 "nbformat_minor": 2
}
